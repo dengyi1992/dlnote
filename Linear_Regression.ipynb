{
  "nbformat": 4,
  "nbformat_minor": 0,
  "metadata": {
    "colab": {
      "name": "Linear Regression",
      "version": "0.3.2",
      "provenance": [],
      "collapsed_sections": [],
      "include_colab_link": true
    },
    "kernelspec": {
      "name": "python3",
      "display_name": "Python 3"
    }
  },
  "cells": [
    {
      "cell_type": "markdown",
      "metadata": {
        "id": "view-in-github",
        "colab_type": "text"
      },
      "source": [
        "<a href=\"https://colab.research.google.com/github/dengyi1992/dlnote/blob/master/Linear_Regression.ipynb\" target=\"_parent\"><img src=\"https://colab.research.google.com/assets/colab-badge.svg\" alt=\"Open In Colab\"/></a>"
      ]
    },
    {
      "metadata": {
        "id": "8OD_PE2jGS7h",
        "colab_type": "text"
      },
      "cell_type": "markdown",
      "source": [
        "<img height=\"60px\" src=\"https://yt3.ggpht.com/-_HrbXXdiDsg/AAAAAAAAAAI/AAAAAAAAAAA/I8eSrNNxYjE/s68-c-k-no-mo-rj-c0xffffff/photo.jpg\" align=\"left\" hspace=\"20px\" vspace=\"5px\">\n",
        "\n",
        "## TensorFlow 线性回归"
      ]
    },
    {
      "metadata": {
        "id": "z11Y9HLsGmWq",
        "colab_type": "text"
      },
      "cell_type": "markdown",
      "source": [
        "**引用使用的包**\n",
        "\n",
        "tf、np、 plt"
      ]
    },
    {
      "metadata": {
        "id": "LR2BNRPlGpfZ",
        "colab_type": "code",
        "colab": {}
      },
      "cell_type": "code",
      "source": [
        "import tensorflow as tf\n",
        "import numpy\n",
        "import matplotlib.pyplot as plt\n",
        "rng = numpy.random"
      ],
      "execution_count": 0,
      "outputs": []
    },
    {
      "metadata": {
        "id": "zm9gZk17Gzo5",
        "colab_type": "text"
      },
      "cell_type": "markdown",
      "source": [
        "**参数设定**\n",
        "\n",
        "* learning_rate = 0.01 学习率\n",
        "* training_epochs = 1000 训练迭代次数\n",
        "* display_step = 50 每隔50次打印一次\n"
      ]
    },
    {
      "metadata": {
        "id": "qFAn_ZWYGxyp",
        "colab_type": "code",
        "colab": {}
      },
      "cell_type": "code",
      "source": [
        "learning_rate = 0.01\n",
        "training_epochs = 1000\n",
        "display_step = 50"
      ],
      "execution_count": 0,
      "outputs": []
    },
    {
      "metadata": {
        "id": "3Uush_rKHY4y",
        "colab_type": "text"
      },
      "cell_type": "markdown",
      "source": [
        "**训练数据的定义**"
      ]
    },
    {
      "metadata": {
        "id": "Oxw3HUDUHcvp",
        "colab_type": "code",
        "colab": {}
      },
      "cell_type": "code",
      "source": [
        "train_X = numpy.asarray([3.3,4.4,5.5,6.71,6.93,4.168,9.779,6.182,7.59,2.167,\n",
        "                         7.042,10.791,5.313,7.997,5.654,9.27,3.1])\n",
        "train_Y = numpy.asarray([1.7,2.76,2.09,3.19,1.694,1.573,3.366,2.596,2.53,1.221,\n",
        "                         2.827,3.465,1.65,2.904,2.42,2.94,1.3])\n",
        "n_samples = train_X.shape[0]"
      ],
      "execution_count": 0,
      "outputs": []
    },
    {
      "metadata": {
        "id": "NTd7Wp4pHd6I",
        "colab_type": "text"
      },
      "cell_type": "markdown",
      "source": [
        "**Tensorflow 输入、Weight、bias的定义**"
      ]
    },
    {
      "metadata": {
        "id": "DT8E89I4HiIA",
        "colab_type": "code",
        "outputId": "0027c68b-774b-4b39-d801-74ea33fc137e",
        "colab": {
          "base_uri": "https://localhost:8080/",
          "height": 87
        }
      },
      "cell_type": "code",
      "source": [
        "# tf Graph Input\n",
        "X = tf.placeholder(\"float\")\n",
        "Y = tf.placeholder(\"float\")\n",
        "\n",
        "# Set model weights\n",
        "W = tf.Variable(rng.randn(), name=\"weight\")\n",
        "b = tf.Variable(rng.randn(), name=\"bias\")"
      ],
      "execution_count": 0,
      "outputs": [
        {
          "output_type": "stream",
          "text": [
            "WARNING:tensorflow:From /usr/local/lib/python3.6/dist-packages/tensorflow/python/framework/op_def_library.py:263: colocate_with (from tensorflow.python.framework.ops) is deprecated and will be removed in a future version.\n",
            "Instructions for updating:\n",
            "Colocations handled automatically by placer.\n"
          ],
          "name": "stdout"
        }
      ]
    },
    {
      "metadata": {
        "id": "QzMIxD8cH-Pg",
        "colab_type": "text"
      },
      "cell_type": "markdown",
      "source": [
        "**线性模型的构造**\n",
        "\n",
        "y（pred） = w*x + b"
      ]
    },
    {
      "metadata": {
        "id": "YROhKRAeIDov",
        "colab_type": "code",
        "colab": {}
      },
      "cell_type": "code",
      "source": [
        "pred = tf.add(tf.multiply(X, W), b)"
      ],
      "execution_count": 0,
      "outputs": []
    },
    {
      "metadata": {
        "id": "WwzybMxEITE5",
        "colab_type": "text"
      },
      "cell_type": "markdown",
      "source": [
        "**损失函数的定义**\n",
        "\n",
        " 均方差"
      ]
    },
    {
      "metadata": {
        "id": "BxTO2e4oIYjw",
        "colab_type": "code",
        "colab": {}
      },
      "cell_type": "code",
      "source": [
        "cost = tf.reduce_sum(tf.pow(pred-Y, 2))/(2*n_samples)"
      ],
      "execution_count": 0,
      "outputs": []
    },
    {
      "metadata": {
        "id": "4EniSoylIsn3",
        "colab_type": "text"
      },
      "cell_type": "markdown",
      "source": [
        "**使用TensorFlow里面的梯度下降优化器**"
      ]
    },
    {
      "metadata": {
        "id": "AcmaDiSKI42w",
        "colab_type": "code",
        "outputId": "88b90aaf-1a5e-4352-e324-3c8de128c5aa",
        "colab": {
          "base_uri": "https://localhost:8080/",
          "height": 87
        }
      },
      "cell_type": "code",
      "source": [
        "optimizer = tf.train.GradientDescentOptimizer(learning_rate).minimize(cost)"
      ],
      "execution_count": 0,
      "outputs": [
        {
          "output_type": "stream",
          "text": [
            "WARNING:tensorflow:From /usr/local/lib/python3.6/dist-packages/tensorflow/python/ops/math_ops.py:3066: to_int32 (from tensorflow.python.ops.math_ops) is deprecated and will be removed in a future version.\n",
            "Instructions for updating:\n",
            "Use tf.cast instead.\n"
          ],
          "name": "stdout"
        }
      ]
    },
    {
      "metadata": {
        "id": "0DkjzXKXTGOn",
        "colab_type": "text"
      },
      "cell_type": "markdown",
      "source": [
        "**初始化变量**"
      ]
    },
    {
      "metadata": {
        "id": "AoC4HvPGTM27",
        "colab_type": "code",
        "colab": {}
      },
      "cell_type": "code",
      "source": [
        "init = tf.global_variables_initializer()"
      ],
      "execution_count": 0,
      "outputs": []
    },
    {
      "metadata": {
        "id": "jAjUOst1TTfB",
        "colab_type": "text"
      },
      "cell_type": "markdown",
      "source": [
        "**开始训练**"
      ]
    },
    {
      "metadata": {
        "id": "0LJEi7_RTXDd",
        "colab_type": "code",
        "outputId": "336d4e9f-c903-42d7-b8ca-f5bbed5c3eb2",
        "colab": {
          "base_uri": "https://localhost:8080/",
          "height": 738
        }
      },
      "cell_type": "code",
      "source": [
        "with tf.Session() as sess:\n",
        "    sess.run(init)\n",
        "\n",
        "    # Fit all training data\n",
        "    for epoch in range(training_epochs):\n",
        "        for (x, y) in zip(train_X, train_Y):\n",
        "            sess.run(optimizer, feed_dict={X: x, Y: y})\n",
        "\n",
        "        #Display logs per epoch step\n",
        "        if (epoch+1) % display_step == 0:\n",
        "            c = sess.run(cost, feed_dict={X: train_X, Y:train_Y})\n",
        "            print(\"Epoch:\", (epoch+1), \"cost=\", \"{:.9f}\".format(c), \\\n",
        "                \"W=\", sess.run(W), \"b=\", sess.run(b))\n",
        "\n",
        "    print (\"Optimization Finished!\")\n",
        "    training_cost = sess.run(cost, feed_dict={X: train_X, Y: train_Y})\n",
        "    print (\"Training cost=\", training_cost, \"W=\", sess.run(W), \"b=\", sess.run(b), '\\n')\n",
        "\n",
        "    #Graphic display\n",
        "    plt.plot(train_X, train_Y, 'ro', label='Original data')\n",
        "    plt.plot(train_X, sess.run(W) * train_X + sess.run(b), label='Fitted line')\n",
        "    plt.legend()\n",
        "    plt.show()"
      ],
      "execution_count": 0,
      "outputs": [
        {
          "output_type": "stream",
          "text": [
            "Epoch: 50 cost= 0.229514509 W= 0.4679279 b= -0.76921505\n",
            "Epoch: 100 cost= 0.211893216 W= 0.4549426 b= -0.67579967\n",
            "Epoch: 150 cost= 0.196306631 W= 0.44272944 b= -0.5879392\n",
            "Epoch: 200 cost= 0.182520047 W= 0.43124264 b= -0.5053046\n",
            "Epoch: 250 cost= 0.170325518 W= 0.42043915 b= -0.42758486\n",
            "Epoch: 300 cost= 0.159539238 W= 0.41027814 b= -0.35448736\n",
            "Epoch: 350 cost= 0.149998710 W= 0.40072155 b= -0.2857371\n",
            "Epoch: 400 cost= 0.141560107 W= 0.39173326 b= -0.22107609\n",
            "Epoch: 450 cost= 0.134096131 W= 0.38327953 b= -0.16026057\n",
            "Epoch: 500 cost= 0.127494320 W= 0.3753286 b= -0.10306221\n",
            "Epoch: 550 cost= 0.121655129 W= 0.36785045 b= -0.049265627\n",
            "Epoch: 600 cost= 0.116490424 W= 0.36081722 b= 0.0013314398\n",
            "Epoch: 650 cost= 0.111922398 W= 0.35420224 b= 0.048919298\n",
            "Epoch: 700 cost= 0.107882120 W= 0.3479807 b= 0.09367686\n",
            "Epoch: 750 cost= 0.104308687 W= 0.3421291 b= 0.1357724\n",
            "Epoch: 800 cost= 0.101148129 W= 0.33662555 b= 0.17536451\n",
            "Epoch: 850 cost= 0.098352768 W= 0.3314494 b= 0.21260178\n",
            "Epoch: 900 cost= 0.095880523 W= 0.32658097 b= 0.24762443\n",
            "Epoch: 950 cost= 0.093693987 W= 0.32200217 b= 0.28056422\n",
            "Epoch: 1000 cost= 0.091760159 W= 0.31769568 b= 0.31154504\n",
            "Optimization Finished!\n",
            "Training cost= 0.09176016 W= 0.31769568 b= 0.31154504 \n",
            "\n"
          ],
          "name": "stdout"
        },
        {
          "output_type": "display_data",
          "data": {
            "image/png": "[encoded data removed]",
            "text/plain": [
              "<Figure size 576x396 with 1 Axes>"
            ]
          },
          "metadata": {
            "tags": []
          }
        }
      ]
    }
  ]
}