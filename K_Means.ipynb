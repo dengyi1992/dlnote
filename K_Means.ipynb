{
  "nbformat": 4,
  "nbformat_minor": 0,
  "metadata": {
    "colab": {
      "name": "K-Means",
      "version": "0.3.2",
      "provenance": [],
      "private_outputs": true,
      "collapsed_sections": [],
      "include_colab_link": true
    },
    "kernelspec": {
      "name": "python3",
      "display_name": "Python 3"
    },
    "accelerator": "TPU"
  },
  "cells": [
    {
      "cell_type": "markdown",
      "metadata": {
        "id": "view-in-github",
        "colab_type": "text"
      },
      "source": [
        "<a href=\"https://colab.research.google.com/github/dengyi1992/dlnote/blob/master/K_Means.ipynb\" target=\"_parent\"><img src=\"https://colab.research.google.com/assets/colab-badge.svg\" alt=\"Open In Colab\"/></a>"
      ]
    },
    {
      "metadata": {
        "id": "LdoVRXageKHp",
        "colab_type": "text"
      },
      "cell_type": "markdown",
      "source": [
        "<img height=\"60px\" src=\"https://yt3.ggpht.com/-_HrbXXdiDsg/AAAAAAAAAAI/AAAAAAAAAAA/I8eSrNNxYjE/s68-c-k-no-mo-rj-c0xffffff/photo.jpg\" align=\"left\" hspace=\"20px\" vspace=\"5px\">\n",
        "\n",
        "## TensorFlow K均值聚类算法 K-Means"
      ]
    },
    {
      "metadata": {
        "id": "X7ely-FEeBP_",
        "colab_type": "code",
        "colab": {}
      },
      "cell_type": "code",
      "source": [
        "from __future__ import print_function\n",
        "\n",
        "import numpy as np\n",
        "import tensorflow as tf\n",
        "from tensorflow.contrib.factorization import KMeans\n",
        "\n",
        "# Ignore all GPUs, tf random forest does not benefit from it.\n",
        "import os\n",
        "os.environ[\"CUDA_VISIBLE_DEVICES\"] = \"\"\n",
        "print(tf.__version__)\n"
      ],
      "execution_count": 0,
      "outputs": []
    },
    {
      "metadata": {
        "id": "TbMHax8YFY-z",
        "colab_type": "code",
        "colab": {}
      },
      "cell_type": "code",
      "source": [
        "# Import MNIST data\n",
        "from tensorflow.examples.tutorials.mnist import input_data\n",
        "mnist = input_data.read_data_sets(\"/tmp/data/\", one_hot=True)\n",
        "full_data_x = mnist.train.images"
      ],
      "execution_count": 0,
      "outputs": []
    },
    {
      "metadata": {
        "id": "zE6Mesl6FiHi",
        "colab_type": "code",
        "colab": {}
      },
      "cell_type": "code",
      "source": [
        "# Parameters\n",
        "num_steps = 50 # Total steps to train\n",
        "batch_size = 1024 # The number of samples per batch\n",
        "k = 25 # The number of clusters\n",
        "num_classes = 10 # The 10 digits\n",
        "num_features = 784 # Each image is 28x28 pixels\n",
        "\n",
        "# Input images\n",
        "X = tf.placeholder(tf.float32, shape=[None, num_features])\n",
        "# Labels (for assigning a label to a centroid and testing)\n",
        "Y = tf.placeholder(tf.float32, shape=[None, num_classes])\n",
        "\n",
        "# K-Means Parameters\n",
        "kmeans = KMeans(inputs=X, num_clusters=k, distance_metric='cosine',\n",
        "                use_mini_batch=True)"
      ],
      "execution_count": 0,
      "outputs": []
    },
    {
      "metadata": {
        "id": "GaN78FZHFmki",
        "colab_type": "code",
        "colab": {}
      },
      "cell_type": "code",
      "source": [
        "# Build KMeans graph\n",
        "(all_scores, cluster_idx, scores, cluster_centers_initialized,init_op,train_op) = kmeans.training_graph()\n",
        "cluster_idx = cluster_idx[0] # fix for cluster_idx being a tuple\n",
        "avg_distance = tf.reduce_mean(scores)\n",
        "\n",
        "# Initialize the variables (i.e. assign their default value)\n",
        "init_vars = tf.global_variables_initializer()"
      ],
      "execution_count": 0,
      "outputs": []
    },
    {
      "metadata": {
        "id": "EiVO369RJn1e",
        "colab_type": "code",
        "colab": {}
      },
      "cell_type": "code",
      "source": [
        "# Start TensorFlow session\n",
        "sess = tf.Session()\n",
        "\n",
        "# Run the initializer\n",
        "sess.run(init_vars, feed_dict={X: full_data_x})\n",
        "sess.run(init_op, feed_dict={X: full_data_x})\n",
        "\n",
        "# Training\n",
        "for i in range(1, num_steps + 1):\n",
        "    _, d, idx = sess.run([train_op, avg_distance, cluster_idx],\n",
        "                         feed_dict={X: full_data_x})\n",
        "    if i % 10 == 0 or i == 1:\n",
        "        print(\"Step %i, Avg Distance: %f\" % (i, d))"
      ],
      "execution_count": 0,
      "outputs": []
    },
    {
      "metadata": {
        "id": "vI4LX4P7JvlZ",
        "colab_type": "code",
        "colab": {}
      },
      "cell_type": "code",
      "source": [
        "# Assign a label to each centroid\n",
        "# Count total number of labels per centroid, using the label of each training\n",
        "# sample to their closest centroid (given by 'idx')\n",
        "counts = np.zeros(shape=(k, num_classes))\n",
        "for i in range(len(idx)):\n",
        "    counts[idx[i]] += mnist.train.labels[i]\n",
        "# Assign the most frequent label to the centroid\n",
        "labels_map = [np.argmax(c) for c in counts]\n",
        "labels_map = tf.convert_to_tensor(labels_map)\n",
        "\n",
        "# Evaluation ops\n",
        "# Lookup: centroid_id -> label\n",
        "cluster_label = tf.nn.embedding_lookup(labels_map, cluster_idx)\n",
        "# Compute accuracy\n",
        "correct_prediction = tf.equal(cluster_label, tf.cast(tf.argmax(Y, 1), tf.int32))\n",
        "accuracy_op = tf.reduce_mean(tf.cast(correct_prediction, tf.float32))\n",
        "\n",
        "# Test Model\n",
        "test_x, test_y = mnist.test.images, mnist.test.labels\n",
        "print(\"Test Accuracy:\", sess.run(accuracy_op, feed_dict={X: test_x, Y: test_y}))"
      ],
      "execution_count": 0,
      "outputs": []
    }
  ]
}