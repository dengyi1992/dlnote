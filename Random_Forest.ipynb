{
  "nbformat": 4,
  "nbformat_minor": 0,
  "metadata": {
    "colab": {
      "name": "Random Forest",
      "version": "0.3.2",
      "provenance": [],
      "collapsed_sections": [],
      "include_colab_link": true
    },
    "kernelspec": {
      "name": "python3",
      "display_name": "Python 3"
    }
  },
  "cells": [
    {
      "cell_type": "markdown",
      "metadata": {
        "id": "view-in-github",
        "colab_type": "text"
      },
      "source": [
        "<a href=\"https://colab.research.google.com/github/dengyi1992/dlnote/blob/master/Random_Forest.ipynb\" target=\"_parent\"><img src=\"https://colab.research.google.com/assets/colab-badge.svg\" alt=\"Open In Colab\"/></a>"
      ]
    },
    {
      "metadata": {
        "id": "mS_sG65jKSTo",
        "colab_type": "text"
      },
      "cell_type": "markdown",
      "source": [
        "<img height=\"60px\" src=\"https://yt3.ggpht.com/-_HrbXXdiDsg/AAAAAAAAAAI/AAAAAAAAAAA/I8eSrNNxYjE/s68-c-k-no-mo-rj-c0xffffff/photo.jpg\" align=\"left\" hspace=\"20px\" vspace=\"5px\">\n",
        "\n",
        "## TensorFlow 随机森林  Random Forest"
      ]
    },
    {
      "metadata": {
        "id": "lBVpXkMmKMuo",
        "colab_type": "code",
        "colab": {
          "base_uri": "https://localhost:8080/",
          "height": 34
        },
        "outputId": "ec09addf-7346-45e9-9b40-7b52e00adeaf"
      },
      "cell_type": "code",
      "source": [
        "from __future__ import print_function\n",
        "\n",
        "import tensorflow as tf\n",
        "from tensorflow.python.ops import resources\n",
        "from tensorflow.contrib.tensor_forest.python import tensor_forest\n",
        "\n",
        "# Ignore all GPUs, tf random forest does not benefit from it.\n",
        "import os\n",
        "os.environ[\"CUDA_VISIBLE_DEVICES\"] = \"\"\n",
        "print(tf.__version__)"
      ],
      "execution_count": 1,
      "outputs": [
        {
          "output_type": "stream",
          "text": [
            "1.13.1\n"
          ],
          "name": "stdout"
        }
      ]
    },
    {
      "metadata": {
        "id": "sJpSTyZhKRyp",
        "colab_type": "code",
        "colab": {
          "base_uri": "https://localhost:8080/",
          "height": 356
        },
        "outputId": "7cf8b3ea-50b1-4124-fe4c-2e357d4d5d59"
      },
      "cell_type": "code",
      "source": [
        "# Import MNIST data\n",
        "from tensorflow.examples.tutorials.mnist import input_data\n",
        "mnist = input_data.read_data_sets(\"/tmp/data/\", one_hot=False)"
      ],
      "execution_count": 2,
      "outputs": [
        {
          "output_type": "stream",
          "text": [
            "WARNING:tensorflow:From <ipython-input-2-614640d4fa8f>:2: read_data_sets (from tensorflow.contrib.learn.python.learn.datasets.mnist) is deprecated and will be removed in a future version.\n",
            "Instructions for updating:\n",
            "Please use alternatives such as official/mnist/dataset.py from tensorflow/models.\n",
            "WARNING:tensorflow:From /usr/local/lib/python3.6/dist-packages/tensorflow/contrib/learn/python/learn/datasets/mnist.py:260: maybe_download (from tensorflow.contrib.learn.python.learn.datasets.base) is deprecated and will be removed in a future version.\n",
            "Instructions for updating:\n",
            "Please write your own downloading logic.\n",
            "WARNING:tensorflow:From /usr/local/lib/python3.6/dist-packages/tensorflow/contrib/learn/python/learn/datasets/mnist.py:262: extract_images (from tensorflow.contrib.learn.python.learn.datasets.mnist) is deprecated and will be removed in a future version.\n",
            "Instructions for updating:\n",
            "Please use tf.data to implement this functionality.\n",
            "Extracting /tmp/data/train-images-idx3-ubyte.gz\n",
            "WARNING:tensorflow:From /usr/local/lib/python3.6/dist-packages/tensorflow/contrib/learn/python/learn/datasets/mnist.py:267: extract_labels (from tensorflow.contrib.learn.python.learn.datasets.mnist) is deprecated and will be removed in a future version.\n",
            "Instructions for updating:\n",
            "Please use tf.data to implement this functionality.\n",
            "Extracting /tmp/data/train-labels-idx1-ubyte.gz\n",
            "Extracting /tmp/data/t10k-images-idx3-ubyte.gz\n",
            "Extracting /tmp/data/t10k-labels-idx1-ubyte.gz\n",
            "WARNING:tensorflow:From /usr/local/lib/python3.6/dist-packages/tensorflow/contrib/learn/python/learn/datasets/mnist.py:290: DataSet.__init__ (from tensorflow.contrib.learn.python.learn.datasets.mnist) is deprecated and will be removed in a future version.\n",
            "Instructions for updating:\n",
            "Please use alternatives such as official/mnist/dataset.py from tensorflow/models.\n"
          ],
          "name": "stdout"
        }
      ]
    },
    {
      "metadata": {
        "id": "ERDKUp0aLMSR",
        "colab_type": "code",
        "colab": {}
      },
      "cell_type": "code",
      "source": [
        "# Parameters\n",
        "num_steps = 500 # Total steps to train\n",
        "batch_size = 1024 # The number of samples per batch\n",
        "num_classes = 10 # The 10 digits\n",
        "num_features = 784 # Each image is 28x28 pixels\n",
        "num_trees = 10\n",
        "max_nodes = 1000\n",
        "\n",
        "# Input and Target data\n",
        "X = tf.placeholder(tf.float32, shape=[None, num_features])\n",
        "# For random forest, labels must be integers (the class id)\n",
        "Y = tf.placeholder(tf.int32, shape=[None])\n",
        "\n",
        "# Random Forest Parameters\n",
        "hparams = tensor_forest.ForestHParams(num_classes=num_classes,\n",
        "                                      num_features=num_features,\n",
        "                                      num_trees=num_trees,\n",
        "                                      max_nodes=max_nodes).fill()"
      ],
      "execution_count": 0,
      "outputs": []
    },
    {
      "metadata": {
        "id": "xnOeswJ8LQLo",
        "colab_type": "code",
        "colab": {
          "base_uri": "https://localhost:8080/",
          "height": 272
        },
        "outputId": "4582814e-2d3f-42d7-f1a0-b08ee03c2abc"
      },
      "cell_type": "code",
      "source": [
        "# Build the Random Forest\n",
        "forest_graph = tensor_forest.RandomForestGraphs(hparams)\n",
        "# Get training graph and loss\n",
        "train_op = forest_graph.training_graph(X, Y)\n",
        "loss_op = forest_graph.training_loss(X, Y)\n",
        "\n",
        "# Measure the accuracy\n",
        "infer_op, _, _ = forest_graph.inference_graph(X)\n",
        "correct_prediction = tf.equal(tf.argmax(infer_op, 1), tf.cast(Y, tf.int64))\n",
        "accuracy_op = tf.reduce_mean(tf.cast(correct_prediction, tf.float32))\n",
        "\n",
        "# Initialize the variables (i.e. assign their default value) and forest resources\n",
        "init_vars = tf.group(tf.global_variables_initializer(),\n",
        "    resources.initialize_resources(resources.shared_resources()))"
      ],
      "execution_count": 4,
      "outputs": [
        {
          "output_type": "stream",
          "text": [
            "INFO:tensorflow:Constructing forest with params = \n",
            "INFO:tensorflow:{'num_trees': 10, 'max_nodes': 1000, 'bagging_fraction': 1.0, 'feature_bagging_fraction': 1.0, 'num_splits_to_consider': 28, 'max_fertile_nodes': 0, 'split_after_samples': 250, 'valid_leaf_threshold': 1, 'dominate_method': 'bootstrap', 'dominate_fraction': 0.99, 'model_name': 'all_dense', 'split_finish_name': 'basic', 'split_pruning_name': 'none', 'collate_examples': False, 'checkpoint_stats': False, 'use_running_stats_method': False, 'initialize_average_splits': False, 'inference_tree_paths': False, 'param_file': None, 'split_name': 'less_or_equal', 'early_finish_check_every_samples': 0, 'prune_every_samples': 0, 'num_classes': 10, 'num_features': 784, 'bagged_num_features': 784, 'bagged_features': None, 'regression': False, 'num_outputs': 1, 'num_output_columns': 11, 'base_random_seed': 0, 'leaf_model_type': 0, 'stats_model_type': 0, 'finish_type': 0, 'pruning_type': 0, 'split_type': 0}\n",
            "WARNING:tensorflow:From /usr/local/lib/python3.6/dist-packages/tensorflow/python/framework/op_def_library.py:263: colocate_with (from tensorflow.python.framework.ops) is deprecated and will be removed in a future version.\n",
            "Instructions for updating:\n",
            "Colocations handled automatically by placer.\n",
            "WARNING:tensorflow:From /usr/local/lib/python3.6/dist-packages/tensorflow/contrib/tensor_forest/python/ops/data_ops.py:212: to_float (from tensorflow.python.ops.math_ops) is deprecated and will be removed in a future version.\n",
            "Instructions for updating:\n",
            "Use tf.cast instead.\n",
            "WARNING:tensorflow:From /usr/local/lib/python3.6/dist-packages/tensorflow/contrib/tensor_forest/python/tensor_forest.py:606: to_int32 (from tensorflow.python.ops.math_ops) is deprecated and will be removed in a future version.\n",
            "Instructions for updating:\n",
            "Use tf.cast instead.\n",
            "WARNING:tensorflow:From /usr/local/lib/python3.6/dist-packages/tensorflow/contrib/tensor_forest/python/tensor_forest.py:523: div (from tensorflow.python.ops.math_ops) is deprecated and will be removed in a future version.\n",
            "Instructions for updating:\n",
            "Deprecated in favor of operator or tf.math.divide.\n"
          ],
          "name": "stdout"
        }
      ]
    },
    {
      "metadata": {
        "id": "n-mvbAWdLVeh",
        "colab_type": "code",
        "colab": {
          "base_uri": "https://localhost:8080/",
          "height": 269
        },
        "outputId": "7c77a121-abac-49f7-8c32-a320e9849179"
      },
      "cell_type": "code",
      "source": [
        "# Start TensorFlow session\n",
        "sess = tf.train.MonitoredSession()\n",
        "\n",
        "# Run the initializer\n",
        "sess.run(init_vars)\n",
        "\n",
        "# Training\n",
        "for i in range(1, num_steps + 1):\n",
        "    # Prepare Data\n",
        "    # Get the next batch of MNIST data (only images are needed, not labels)\n",
        "    batch_x, batch_y = mnist.train.next_batch(batch_size)\n",
        "    _, l = sess.run([train_op, loss_op], feed_dict={X: batch_x, Y: batch_y})\n",
        "    if i % 50 == 0 or i == 1:\n",
        "        acc = sess.run(accuracy_op, feed_dict={X: batch_x, Y: batch_y})\n",
        "        print('Step %i, Loss: %f, Acc: %f' % (i, l, acc))\n",
        "\n",
        "# Test Model\n",
        "test_x, test_y = mnist.test.images, mnist.test.labels\n",
        "print(\"Test Accuracy:\", sess.run(accuracy_op, feed_dict={X: test_x, Y: test_y}))"
      ],
      "execution_count": 5,
      "outputs": [
        {
          "output_type": "stream",
          "text": [
            "INFO:tensorflow:Graph was finalized.\n",
            "INFO:tensorflow:Running local_init_op.\n",
            "INFO:tensorflow:Done running local_init_op.\n",
            "Step 1, Loss: -1.000000, Acc: 0.420898\n",
            "Step 50, Loss: -255.600006, Acc: 0.889648\n",
            "Step 100, Loss: -542.200012, Acc: 0.914062\n",
            "Step 150, Loss: -831.599976, Acc: 0.922852\n",
            "Step 200, Loss: -1001.000000, Acc: 0.927734\n",
            "Step 250, Loss: -1001.000000, Acc: 0.915039\n",
            "Step 300, Loss: -1001.000000, Acc: 0.921875\n",
            "Step 350, Loss: -1001.000000, Acc: 0.920898\n",
            "Step 400, Loss: -1001.000000, Acc: 0.925781\n",
            "Step 450, Loss: -1001.000000, Acc: 0.928711\n",
            "Step 500, Loss: -1001.000000, Acc: 0.931641\n",
            "Test Accuracy: 0.9191\n"
          ],
          "name": "stdout"
        }
      ]
    }
  ]
}