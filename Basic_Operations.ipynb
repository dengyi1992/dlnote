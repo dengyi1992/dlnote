{
  "nbformat": 4,
  "nbformat_minor": 0,
  "metadata": {
    "colab": {
      "name": "Basic Operations",
      "version": "0.3.2",
      "provenance": [],
      "collapsed_sections": [],
      "toc_visible": true,
      "include_colab_link": true
    },
    "kernelspec": {
      "name": "python3",
      "display_name": "Python 3"
    }
  },
  "cells": [
    {
      "cell_type": "markdown",
      "metadata": {
        "id": "view-in-github",
        "colab_type": "text"
      },
      "source": [
        "<a href=\"https://colab.research.google.com/github/dengyi1992/dlnote/blob/master/Basic_Operations.ipynb\" target=\"_parent\"><img src=\"https://colab.research.google.com/assets/colab-badge.svg\" alt=\"Open In Colab\"/></a>"
      ]
    },
    {
      "metadata": {
        "id": "ub3lHX65AOss",
        "colab_type": "text"
      },
      "cell_type": "markdown",
      "source": [
        "<img height=\"60px\" src=\"https://yt3.ggpht.com/-_HrbXXdiDsg/AAAAAAAAAAI/AAAAAAAAAAA/I8eSrNNxYjE/s68-c-k-no-mo-rj-c0xffffff/photo.jpg\" align=\"left\" hspace=\"20px\" vspace=\"5px\">\n",
        "\n",
        "##  TensorFlow 基础使用"
      ]
    },
    {
      "metadata": {
        "id": "0tFQiy-8AaMr",
        "colab_type": "text"
      },
      "cell_type": "markdown",
      "source": [
        "##引用tensorflow\n",
        "\n"
      ]
    },
    {
      "metadata": {
        "id": "0b9KERh_AbjT",
        "colab_type": "code",
        "colab": {}
      },
      "cell_type": "code",
      "source": [
        "import tensorflow as tf\n"
      ],
      "execution_count": 0,
      "outputs": []
    },
    {
      "metadata": {
        "id": "W6y1k8NGAnJD",
        "colab_type": "text"
      },
      "cell_type": "markdown",
      "source": [
        "### Basic constant operations\n",
        "* The value returned by the constructor represents the output\n",
        "* of the Constant op.\n",
        "\n"
      ]
    },
    {
      "metadata": {
        "id": "kn0f5gYAAlNM",
        "colab_type": "code",
        "colab": {}
      },
      "cell_type": "code",
      "source": [
        "\n",
        "a = tf.constant(2)\n",
        "b = tf.constant(3)"
      ],
      "execution_count": 0,
      "outputs": []
    },
    {
      "metadata": {
        "id": "_mf0-Er0BKKl",
        "colab_type": "text"
      },
      "cell_type": "markdown",
      "source": [
        "### Launch the default graph.\n",
        "\n"
      ]
    },
    {
      "metadata": {
        "id": "QJkyKtWLBSIc",
        "colab_type": "code",
        "outputId": "549a10f3-c12b-40ab-ec80-b58710eb0df6",
        "colab": {
          "base_uri": "https://localhost:8080/",
          "height": 67
        }
      },
      "cell_type": "code",
      "source": [
        "with tf.Session() as sess:\n",
        "    print (\"a: \", sess.run(a), \",b:\", sess.run(b))\n",
        "    print (\"Addition with constants: \", sess.run(a+b))\n",
        "    print (\"Multiplication with constants:\", sess.run(a*b))"
      ],
      "execution_count": 0,
      "outputs": [
        {
          "output_type": "stream",
          "text": [
            "a:  2 ,b: 3\n",
            "Addition with constants:  5\n",
            "Multiplication with constants: 6\n"
          ],
          "name": "stdout"
        }
      ]
    },
    {
      "metadata": {
        "id": "Q3EKF5MaCQB7",
        "colab_type": "text"
      },
      "cell_type": "markdown",
      "source": [
        "### Basic Operations with variable as graph input\n",
        "* The value returned by the constructor represents the output\n",
        "* of the Variable op. (define as input when running session)\n",
        "* tf Graph input"
      ]
    },
    {
      "metadata": {
        "id": "yr4M3SCPCZzC",
        "colab_type": "code",
        "colab": {}
      },
      "cell_type": "code",
      "source": [
        "a = tf.placeholder(tf.int16)\n",
        "b = tf.placeholder(tf.int16)"
      ],
      "execution_count": 0,
      "outputs": []
    },
    {
      "metadata": {
        "id": "PqM01Wm3CgYK",
        "colab_type": "text"
      },
      "cell_type": "markdown",
      "source": [
        "### Define some operations"
      ]
    },
    {
      "metadata": {
        "id": "N-zBl3scCeY7",
        "colab_type": "code",
        "colab": {}
      },
      "cell_type": "code",
      "source": [
        "\n",
        "add = tf.add(a, b)\n",
        "mul = tf.multiply(a, b)"
      ],
      "execution_count": 0,
      "outputs": []
    },
    {
      "metadata": {
        "colab_type": "text",
        "id": "GzO5sGpJC0kw"
      },
      "cell_type": "markdown",
      "source": [
        "### Launch the default graph.\n",
        "\n"
      ]
    },
    {
      "metadata": {
        "id": "fk0Ag45bC7X0",
        "colab_type": "code",
        "outputId": "5197f257-a9a3-4406-ad0e-75511eb87500",
        "colab": {
          "base_uri": "https://localhost:8080/",
          "height": 50
        }
      },
      "cell_type": "code",
      "source": [
        "# Launch the default graph.\n",
        "with tf.Session() as sess:\n",
        "    # Run every operation with variable input\n",
        "    print( \"Addition with variables: \", sess.run(add, feed_dict={a: 2, b: 3}))\n",
        "    print( \"Multiplication with variables:\" ,sess.run(mul, feed_dict={a: 2, b: 3}))"
      ],
      "execution_count": 0,
      "outputs": [
        {
          "output_type": "stream",
          "text": [
            "Addition with variables:  5\n",
            "Multiplication with variables: 6\n"
          ],
          "name": "stdout"
        }
      ]
    },
    {
      "metadata": {
        "id": "4bGGa542DHLk",
        "colab_type": "text"
      },
      "cell_type": "markdown",
      "source": [
        "    # ----------------\n",
        "    # More in details:\n",
        "    # Matrix Multiplication from TensorFlow official tutorial\n",
        "\n",
        "    # Create a Constant op that produces a 1x2 matrix.  The op is\n",
        "    # added as a node to the default graph.\n",
        "    #\n",
        "    # The value returned by the constructor represents the output\n",
        "    # of the Constant op."
      ]
    },
    {
      "metadata": {
        "id": "-NH71ylhDR4i",
        "colab_type": "code",
        "outputId": "cf7beb18-3d1c-4df2-b342-42d209e5854e",
        "colab": {
          "base_uri": "https://localhost:8080/",
          "height": 34
        }
      },
      "cell_type": "code",
      "source": [
        "matrix1 = tf.constant([[3., 3.]])\n",
        "\n",
        "print (matrix1)"
      ],
      "execution_count": 0,
      "outputs": [
        {
          "output_type": "stream",
          "text": [
            "Tensor(\"Const_7:0\", shape=(1, 2), dtype=float32)\n"
          ],
          "name": "stdout"
        }
      ]
    },
    {
      "metadata": {
        "id": "WzTHe-r2DWEB",
        "colab_type": "text"
      },
      "cell_type": "markdown",
      "source": [
        "Create another Constant that produces a 2x1 matrix."
      ]
    },
    {
      "metadata": {
        "id": "f5a7BCFHDZu5",
        "colab_type": "code",
        "outputId": "68d4a29f-b8e7-4499-e1fb-ef4d16ab5c3d",
        "colab": {
          "base_uri": "https://localhost:8080/",
          "height": 34
        }
      },
      "cell_type": "code",
      "source": [
        "matrix2 = tf.constant([[2.],[2.]])\n",
        "print (matrix2)"
      ],
      "execution_count": 0,
      "outputs": [
        {
          "output_type": "stream",
          "text": [
            "Tensor(\"Const_8:0\", shape=(2, 1), dtype=float32)\n"
          ],
          "name": "stdout"
        }
      ]
    },
    {
      "metadata": {
        "id": "IN5M9jHUDYnq",
        "colab_type": "text"
      },
      "cell_type": "markdown",
      "source": [
        "Create a Matmul op that takes 'matrix1' and 'matrix2' as inputs.\n",
        "The returned value, 'product', represents the result of the matrix\n",
        "multiplication.\n",
        "\n",
        "矩阵相乘"
      ]
    },
    {
      "metadata": {
        "id": "4PtjaLV0DgPx",
        "colab_type": "code",
        "outputId": "3f5f80ec-a109-4b7e-9173-9095b30c0ff0",
        "colab": {
          "base_uri": "https://localhost:8080/",
          "height": 34
        }
      },
      "cell_type": "code",
      "source": [
        "product = tf.matmul(matrix1, matrix2)\n",
        "\n",
        "print(product)"
      ],
      "execution_count": 0,
      "outputs": [
        {
          "output_type": "stream",
          "text": [
            "Tensor(\"MatMul:0\", shape=(1, 1), dtype=float32)\n"
          ],
          "name": "stdout"
        }
      ]
    },
    {
      "metadata": {
        "id": "haGL_aviEAwr",
        "colab_type": "code",
        "outputId": "537023ea-9fb3-45bc-8d0e-0f53884f0b00",
        "colab": {
          "base_uri": "https://localhost:8080/",
          "height": 34
        }
      },
      "cell_type": "code",
      "source": [
        "# To run the matmul op we call the session 'run()' method, passing 'product'\n",
        "# which represents the output of the matmul op.  This indicates to the call\n",
        "# that we want to get the output of the matmul op back.\n",
        "#\n",
        "# All inputs needed by the op are run automatically by the session.  They\n",
        "# typically are run in parallel.\n",
        "#\n",
        "# The call 'run(product)' thus causes the execution of threes ops in the\n",
        "# graph: the two constants and matmul.\n",
        "#\n",
        "# The output of the op is returned in 'result' as a numpy `ndarray` object.\n",
        "with tf.Session() as sess:\n",
        "    result = sess.run(product)\n",
        "    print(result)"
      ],
      "execution_count": 0,
      "outputs": [
        {
          "output_type": "stream",
          "text": [
            "[[12.]]\n"
          ],
          "name": "stdout"
        }
      ]
    }
  ]
}